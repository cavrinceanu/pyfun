{
  "nbformat": 4,
  "nbformat_minor": 0,
  "metadata": {
    "colab": {
      "provenance": [],
      "authorship_tag": "ABX9TyNgFco5SCtShBUAA61hMr/n",
      "include_colab_link": true
    },
    "kernelspec": {
      "name": "python3",
      "display_name": "Python 3"
    },
    "language_info": {
      "name": "python"
    }
  },
  "cells": [
    {
      "cell_type": "markdown",
      "metadata": {
        "id": "view-in-github",
        "colab_type": "text"
      },
      "source": [
        "<a href=\"https://colab.research.google.com/github/cavrinceanu/pyfun/blob/main/Play_with_lonboard.ipynb\" target=\"_parent\"><img src=\"https://colab.research.google.com/assets/colab-badge.svg\" alt=\"Open In Colab\"/></a>"
      ]
    },
    {
      "cell_type": "markdown",
      "source": [
        "Install and initiate dependencies"
      ],
      "metadata": {
        "id": "-UG_Y3Fg8njS"
      }
    },
    {
      "cell_type": "code",
      "source": [
        "from IPython.display import clear_output"
      ],
      "metadata": {
        "id": "KY2qT3GE8IBX"
      },
      "execution_count": 1,
      "outputs": []
    },
    {
      "cell_type": "code",
      "source": [
        "!pip install lonboard.\n",
        "clear_output()"
      ],
      "metadata": {
        "id": "g0aaZ3cj8Vv6"
      },
      "execution_count": 2,
      "outputs": []
    },
    {
      "cell_type": "code",
      "execution_count": 5,
      "metadata": {
        "id": "REM_AtL97_p2"
      },
      "outputs": [],
      "source": [
        "import geopandas as gpd\n",
        "from lonboard import viz"
      ]
    },
    {
      "cell_type": "code",
      "source": [
        "from google.colab import drive\n",
        "drive.mount('/content/drive')"
      ],
      "metadata": {
        "colab": {
          "base_uri": "https://localhost:8080/"
        },
        "id": "5Yv2FuS08HTv",
        "outputId": "c407d1cd-4635-4437-b745-73aaf32477c1"
      },
      "execution_count": 4,
      "outputs": [
        {
          "output_type": "stream",
          "name": "stdout",
          "text": [
            "Mounted at /content/drive\n"
          ]
        }
      ]
    },
    {
      "cell_type": "markdown",
      "source": [
        "Add a large scale dataset from drive"
      ],
      "metadata": {
        "id": "BtWw_Nfr8sNm"
      }
    },
    {
      "cell_type": "code",
      "source": [],
      "metadata": {
        "id": "QiHsX3Qf825W"
      },
      "execution_count": null,
      "outputs": []
    }
  ]
}